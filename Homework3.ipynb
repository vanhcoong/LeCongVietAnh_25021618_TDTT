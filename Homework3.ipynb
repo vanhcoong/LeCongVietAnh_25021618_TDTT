{
 "cells": [
  {
   "cell_type": "code",
   "execution_count": 18,
   "id": "f9a6b954",
   "metadata": {},
   "outputs": [
    {
     "name": "stdout",
     "output_type": "stream",
     "text": [
      "1 3 5 7 9 11 13 15 17 19 21 23 25 27 29 31 33 35 37 39 41 43 45 47 49 51 53 55 57 59 61 63 65 67 69 71 73 75 77 79 81 83 85 87 89 91 93 95 97 99\n"
     ]
    }
   ],
   "source": [
    "#HW3A1\n",
    "#for i in range(1, 100, 2): print(i, end=' ')\n",
    "print(*(i for i in range(1, 100, 2)), sep=\" \")"
   ]
  },
  {
   "cell_type": "code",
   "execution_count": null,
   "id": "283d4c68",
   "metadata": {},
   "outputs": [
    {
     "name": "stdout",
     "output_type": "stream",
     "text": [
      "6 12 18 24 30 36 42 48 54 60 66 72 78 84 90 96 "
     ]
    }
   ],
   "source": [
    "#HW3A2\n",
    "for i in range(6, 100, 6): print(i, end=' ')\n",
    "#print(*(i for i in range(6, 100, 6)), sep=\" \")"
   ]
  },
  {
   "cell_type": "code",
   "execution_count": 20,
   "id": "e62c8d61",
   "metadata": {},
   "outputs": [
    {
     "name": "stdout",
     "output_type": "stream",
     "text": [
      "5 x 1 = 5\n",
      "5 x 2 = 10\n",
      "5 x 3 = 15\n",
      "5 x 4 = 20\n",
      "5 x 5 = 25\n",
      "5 x 6 = 30\n",
      "5 x 7 = 35\n",
      "5 x 8 = 40\n",
      "5 x 9 = 45\n"
     ]
    }
   ],
   "source": [
    "#HW3A3\n",
    "n = int(input())\n",
    "for i in range(1, 10): print(f\"{n} x {i} = {n*i}\")"
   ]
  },
  {
   "cell_type": "code",
   "execution_count": 6,
   "id": "e4beacc7",
   "metadata": {},
   "outputs": [
    {
     "name": "stdout",
     "output_type": "stream",
     "text": [
      "   *\n",
      "  * *\n",
      " *   *\n",
      "*******\n"
     ]
    }
   ],
   "source": [
    "#HW3A4\n",
    "h = int(input())\n",
    "for i in range(1, h):\n",
    "    print(' '*(h-i), end=\"\")\n",
    "    print('*', end=\"\")\n",
    "    if i != 1: print(' '*(2*i-3), end=\"\"), print('*')\n",
    "    else: print()\n",
    "print('*'*(2*h-1))"
   ]
  },
  {
   "cell_type": "code",
   "execution_count": 1,
   "id": "d262e43e",
   "metadata": {},
   "outputs": [
    {
     "name": "stdout",
     "output_type": "stream",
     "text": [
      "55\n"
     ]
    }
   ],
   "source": [
    "#HW3A5\n",
    "n = int(input())\n",
    "ans = 0\n",
    "for i in range(1, n + 1): ans += i\n",
    "print(ans)\n",
    "#print(n * (n + 1) / 2)"
   ]
  },
  {
   "cell_type": "code",
   "execution_count": 4,
   "id": "9bf8057c",
   "metadata": {},
   "outputs": [
    {
     "name": "stdout",
     "output_type": "stream",
     "text": [
      "1 "
     ]
    }
   ],
   "source": [
    "#HW3A6\n",
    "a = int(input())\n",
    "print(1, end=\" \")\n",
    "if a != 1: print(a, end = \" \")\n",
    "temp = 2\n",
    "while temp * temp < a:\n",
    "    if a % temp == 0: print(temp, a // temp, end = \" \")\n",
    "    temp += 1\n",
    "if temp ** 2 == a: print(temp)"
   ]
  },
  {
   "cell_type": "code",
   "execution_count": 5,
   "id": "b4d082f4",
   "metadata": {},
   "outputs": [
    {
     "name": "stdout",
     "output_type": "stream",
     "text": [
      "1\n"
     ]
    }
   ],
   "source": [
    "#HW3A7\n",
    "a = int(input())\n",
    "ans = 1 if a == 1 else 2\n",
    "temp = 2\n",
    "while temp * temp < a:\n",
    "    if a % temp == 0: ans += 2\n",
    "    temp += 1\n",
    "if temp ** 2 == a: ans += 1\n",
    "print(ans)"
   ]
  },
  {
   "cell_type": "code",
   "execution_count": 7,
   "id": "53a54399",
   "metadata": {},
   "outputs": [
    {
     "name": "stdout",
     "output_type": "stream",
     "text": [
      "1 12 2 6 3 4 "
     ]
    }
   ],
   "source": [
    "#HW3A8\n",
    "def FindGCD(m, n):\n",
    "    while m != n and m != 0 and n != 0:\n",
    "        if m > n: m %= n\n",
    "        else: n %= m\n",
    "    return m if m else n\n",
    "\n",
    "def FindDivisor(a):\n",
    "    print(1, end=\" \")\n",
    "    if a != 1: print(a, end = \" \")\n",
    "    temp = 2\n",
    "    while temp * temp < a:\n",
    "        if a % temp == 0: print(temp, a // temp, end = \" \")\n",
    "        temp += 1\n",
    "    if temp ** 2 == a: print(temp)\n",
    "        \n",
    "a, b = map(int,input().split(\" \"))\n",
    "k = FindGCD(a, b) #k =math.gcd(a, b)\n",
    "FindDivisor(k)"
   ]
  },
  {
   "cell_type": "code",
   "execution_count": 9,
   "id": "76b40550",
   "metadata": {},
   "outputs": [
    {
     "name": "stdout",
     "output_type": "stream",
     "text": [
      "26 không là số chính phương\n"
     ]
    }
   ],
   "source": [
    "#HW3A9\n",
    "#Dùng floor(math.sqrt())\n",
    "n = int(input())\n",
    "temp = 0\n",
    "while temp * temp < n: temp += 1\n",
    "print(f'{n} là số chính phương' if temp ** 2 == n else f'{n} không là số chính phương')"
   ]
  },
  {
   "cell_type": "code",
   "execution_count": 11,
   "id": "e258252e",
   "metadata": {},
   "outputs": [
    {
     "name": "stdout",
     "output_type": "stream",
     "text": [
      "6 là số hoàn hảo\n"
     ]
    }
   ],
   "source": [
    "#HW3A10\n",
    "def link(x):\n",
    "    ans, temp = 1, 2\n",
    "    while temp * temp < x:\n",
    "        if x % temp == 0: ans += (temp + x // temp)\n",
    "        temp += 1\n",
    "    if temp ** 2 == x: ans += temp\n",
    "    return ans == x\n",
    "\n",
    "a = int(input())\n",
    "print(f'{a} là số hoàn hảo' if link(a) else f'{a} không là số hoàn hảo')"
   ]
  },
  {
   "cell_type": "code",
   "execution_count": 13,
   "id": "d7544739",
   "metadata": {},
   "outputs": [
    {
     "name": "stdout",
     "output_type": "stream",
     "text": [
      "Bạn nhập đúng quy tắc\n"
     ]
    }
   ],
   "source": [
    "#HW3A11\n",
    "while True:\n",
    "    a = int(input())\n",
    "    if a > 0: print(\"Bạn nhập đúng quy tắc\"); break"
   ]
  },
  {
   "cell_type": "code",
   "execution_count": 14,
   "id": "34b625fb",
   "metadata": {},
   "outputs": [
    {
     "name": "stdout",
     "output_type": "stream",
     "text": [
      "3\n"
     ]
    }
   ],
   "source": [
    "#HW3A12\n",
    "#Dùng toán\n",
    "n = int(input())\n",
    "ans, temp = 0, 0\n",
    "while ans < n: temp += 1; ans += temp\n",
    "print(temp - 1)"
   ]
  },
  {
   "cell_type": "code",
   "execution_count": 15,
   "id": "b85ac09b",
   "metadata": {},
   "outputs": [
    {
     "name": "stdout",
     "output_type": "stream",
     "text": [
      "11\n"
     ]
    }
   ],
   "source": [
    "#HW3A13\n",
    "#Dùng toán ???\n",
    "n = int(input())\n",
    "ans, temp = 0, 0\n",
    "while ans <= n: temp += 1; ans += (1/ temp)\n",
    "print(temp)"
   ]
  },
  {
   "cell_type": "code",
   "execution_count": 23,
   "id": "125b0d35",
   "metadata": {},
   "outputs": [
    {
     "name": "stdout",
     "output_type": "stream",
     "text": [
      "8 2\n"
     ]
    }
   ],
   "source": [
    "#HW3A14\n",
    "flag = False\n",
    "maxi, mini = -1, -1\n",
    "while True:\n",
    "    n = int(input())\n",
    "    if n == -1: break\n",
    "    elif not flag: flag = True; maxi = mini = n\n",
    "    else: maxi = max(maxi, n); mini = min(mini, n)\n",
    "print(maxi, mini)"
   ]
  },
  {
   "cell_type": "code",
   "execution_count": null,
   "id": "b6aa6c9f",
   "metadata": {},
   "outputs": [],
   "source": [
    "#HW3A15\n",
    "\"\"\"\n",
    "C1:\n",
    "n = int(input())\n",
    "ans = 0\n",
    "while n: ans += 1; n //= 10\n",
    "print(ans)\n",
    "\n",
    "\"\"\"\n",
    "#C2:\n",
    "n = int(input())\n",
    "print(len(str(n)))"
   ]
  },
  {
   "cell_type": "code",
   "execution_count": 16,
   "id": "06e8c626",
   "metadata": {},
   "outputs": [
    {
     "name": "stdout",
     "output_type": "stream",
     "text": [
      "Số chữ số chẵn: 5, Số chữ số lẻ: 5\n"
     ]
    }
   ],
   "source": [
    "#HW3A16\n",
    "chan, step = 0, 0\n",
    "n = int(input())\n",
    "while n:\n",
    "    if n % 2 == 0: chan += 1\n",
    "    n //= 10\n",
    "    step += 1\n",
    "print(f'Số chữ số chẵn: {chan}, Số chữ số lẻ: {step - chan}')"
   ]
  },
  {
   "cell_type": "code",
   "execution_count": 17,
   "id": "0a96f575",
   "metadata": {},
   "outputs": [
    {
     "name": "stdout",
     "output_type": "stream",
     "text": [
      "15\n"
     ]
    }
   ],
   "source": [
    "#HW3A17\n",
    "n = int(input())\n",
    "ans = 0\n",
    "while n: ans += n % 10; n //= 10\n",
    "print(ans)"
   ]
  },
  {
   "cell_type": "code",
   "execution_count": 19,
   "id": "902a5cbf",
   "metadata": {},
   "outputs": [
    {
     "name": "stdout",
     "output_type": "stream",
     "text": [
      "28 không là số dạng 3^k\n"
     ]
    }
   ],
   "source": [
    "#HW3A18\n",
    "n = int(input())\n",
    "temp = 1\n",
    "while temp < n: temp *= 3\n",
    "print(f'{n} là số dạng 3^k' if temp == n else f'{n} không là số dạng 3^k')"
   ]
  },
  {
   "cell_type": "code",
   "execution_count": 22,
   "id": "da3b04c4",
   "metadata": {},
   "outputs": [
    {
     "name": "stdout",
     "output_type": "stream",
     "text": [
      "21\n"
     ]
    }
   ],
   "source": [
    "#HW3A19\n",
    "A = int(input())\n",
    "a, b = 0, 1\n",
    "while b <= A:\n",
    "    a, b = b, a + b\n",
    "print(a)"
   ]
  },
  {
   "cell_type": "code",
   "execution_count": 20,
   "id": "6f4bef74",
   "metadata": {},
   "outputs": [
    {
     "name": "stdout",
     "output_type": "stream",
     "text": [
      "8\n"
     ]
    }
   ],
   "source": [
    "#HW3A20\n",
    "n = int(input())\n",
    "ans = 0\n",
    "while n: ans += (n % 10 == 2 or n % 10 == 3 or n % 10 == 5 or n % 10 == 7); n //= 10\n",
    "print(ans)"
   ]
  }
 ],
 "metadata": {
  "kernelspec": {
   "display_name": "Python 3",
   "language": "python",
   "name": "python3"
  },
  "language_info": {
   "codemirror_mode": {
    "name": "ipython",
    "version": 3
   },
   "file_extension": ".py",
   "mimetype": "text/x-python",
   "name": "python",
   "nbconvert_exporter": "python",
   "pygments_lexer": "ipython3",
   "version": "3.11.0"
  }
 },
 "nbformat": 4,
 "nbformat_minor": 5
}
