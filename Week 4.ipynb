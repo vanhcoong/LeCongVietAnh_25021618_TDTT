{
 "cells": [
  {
   "cell_type": "code",
   "execution_count": null,
   "id": "bec958d6",
   "metadata": {},
   "outputs": [
    {
     "name": "stdout",
     "output_type": "stream",
     "text": [
      "10\n"
     ]
    }
   ],
   "source": [
    "#W4A1: SumOfNumBers\n",
    "n = int(input())\n",
    "ans = 0\n",
    "for i in range(1, n + 1): ans += i\n",
    "print(ans)"
   ]
  },
  {
   "cell_type": "code",
   "execution_count": null,
   "id": "0ebdc498",
   "metadata": {},
   "outputs": [
    {
     "name": "stdout",
     "output_type": "stream",
     "text": [
      "Là số nguyên tố\n"
     ]
    }
   ],
   "source": [
    "#W4A2: PrimeNumber\n",
    "def Check_Prime(k):\n",
    "    ans = True if k != 1 else False\n",
    "    temp = 2\n",
    "    while temp ** 2 <= k:\n",
    "        if not k % temp: ans = False; break\n",
    "        temp += 1\n",
    "    return ans\n",
    "\n",
    "while True:\n",
    "    n = int(input())\n",
    "    if n > 0:\n",
    "        print(\"Là số nguyên tố\" if Check_Prime(n) else \"Không là số nguyên tố\")\n",
    "        break"
   ]
  },
  {
   "cell_type": "code",
   "execution_count": null,
   "id": "30816910",
   "metadata": {},
   "outputs": [
    {
     "name": "stdout",
     "output_type": "stream",
     "text": [
      "120\n"
     ]
    }
   ],
   "source": [
    "#W4A3: Factorial\n",
    "ans = 1\n",
    "n = int(input())\n",
    "for i in range(2, n + 1): ans *= i\n",
    "print(ans)"
   ]
  },
  {
   "cell_type": "code",
   "execution_count": null,
   "id": "2dd16c1f",
   "metadata": {},
   "outputs": [
    {
     "name": "stdout",
     "output_type": "stream",
     "text": [
      "1\n"
     ]
    }
   ],
   "source": [
    "#W4A4: CountingDigits\n",
    "ans = 0\n",
    "n = int(input())\n",
    "if n == -1 or n == 0: print(1)\n",
    "else:\n",
    "    while n != 0 and n != -1: ans += 1; n //= 10\n",
    "    print(ans)"
   ]
  },
  {
   "cell_type": "code",
   "execution_count": null,
   "id": "9adc8af0",
   "metadata": {},
   "outputs": [
    {
     "name": "stdout",
     "output_type": "stream",
     "text": [
      "It's a joke!\n"
     ]
    }
   ],
   "source": [
    "#W4A5: MeaningOfLife\n",
    "#Chỉnh input sau\n",
    "n = int(input())\n",
    "ans = False\n",
    "for i in range(n):\n",
    "    a = int(input())\n",
    "    if a == 42: ans = True\n",
    "print(\"I've found the meaning of life!\" if ans else \"It's a joke!\")"
   ]
  },
  {
   "cell_type": "code",
   "execution_count": null,
   "id": "a4e765c7",
   "metadata": {},
   "outputs": [
    {
     "name": "stdout",
     "output_type": "stream",
     "text": [
      "17\n"
     ]
    }
   ],
   "source": [
    "#W4A6: SumPrimesInRange\n",
    "def Check_Prime(k):\n",
    "    ans = True if k != 1 else False\n",
    "    temp = 2\n",
    "    while temp ** 2 <= k:\n",
    "        if not k % temp: ans = False; break\n",
    "        temp += 1\n",
    "    return ans\n",
    "\n",
    "a, b = map(int, input().split(\" \"))\n",
    "ans = 0\n",
    "for i in range(a, b + 1): ans += i if Check_Prime(i) else 0\n",
    "print(ans)"
   ]
  },
  {
   "cell_type": "code",
   "execution_count": null,
   "id": "176a94ff",
   "metadata": {},
   "outputs": [
    {
     "name": "stdout",
     "output_type": "stream",
     "text": [
      "2\n"
     ]
    }
   ],
   "source": [
    "#W4A7: LargestPrimeFactor\n",
    "def Check_Prime(k):\n",
    "    ans = True if k != 1 else False\n",
    "    temp = 2\n",
    "    while temp ** 2 <= k:\n",
    "        if not k % temp: ans = False; break\n",
    "        temp += 1\n",
    "    return ans\n",
    "\n",
    "n = int(input())\n",
    "if Check_Prime(n): print(n)\n",
    "else:\n",
    "    temp, ans = 2, -1\n",
    "    while temp**2 <= n:\n",
    "        if n % temp == 0:\n",
    "            if Check_Prime(n // temp): ans = max(n//temp, ans)\n",
    "            if Check_Prime(temp): ans = max(ans, temp)\n",
    "        temp += 1\n",
    "    print(ans)"
   ]
  },
  {
   "cell_type": "code",
   "execution_count": null,
   "id": "39738d98",
   "metadata": {},
   "outputs": [
    {
     "name": "stdout",
     "output_type": "stream",
     "text": [
      "1 444\n"
     ]
    }
   ],
   "source": [
    "#W4A8: ReverseAddPalindrome\n",
    "def reverse(n):\n",
    "    return int(str(n)[::-1])\n",
    "\n",
    "def isPalindrome(n):\n",
    "    return str(n) == str(n)[::-1]\n",
    "\n",
    "n = int(input())\n",
    "L = 0\n",
    "while not isPalindrome(n): n += reverse(n); L += 1\n",
    "print(L, n)"
   ]
  },
  {
   "cell_type": "code",
   "execution_count": 36,
   "id": "4e338e78",
   "metadata": {},
   "outputs": [
    {
     "name": "stdout",
     "output_type": "stream",
     "text": [
      "0 1 4 9 16 25 36 49 64 81 "
     ]
    }
   ],
   "source": [
    "#W4A9: PerfectSquaresDistinctDigits\n",
    "def Distinct(x):\n",
    "    temp = str(x)\n",
    "    check = [0] * 10\n",
    "    for i in temp:\n",
    "        if check[ord(i) - ord('0')]: return False\n",
    "        check[ord(i) - ord('0')] += 1\n",
    "    return True\n",
    "\n",
    "n = int(input())\n",
    "temp = 0\n",
    "while temp ** 2 <= n:\n",
    "    k = temp ** 2\n",
    "    if k >= 10 ** 10: break\n",
    "    if Distinct(k): print(k, end=\" \")\n",
    "    temp += 1\n"
   ]
  },
  {
   "cell_type": "code",
   "execution_count": 37,
   "id": "bbb35f0a",
   "metadata": {},
   "outputs": [
    {
     "name": "stdout",
     "output_type": "stream",
     "text": [
      "871 178\n"
     ]
    }
   ],
   "source": [
    "#W4A10: LongestCollatzUpToN\n",
    "def Collatz(x):\n",
    "    ans = 0\n",
    "    while x > 1:\n",
    "        ans += 1\n",
    "        x = 3 * x + 1 if x % 2 else x / 2\n",
    "    return ans\n",
    "\n",
    "ans, L = -1, -1\n",
    "n = int(input())\n",
    "for i in range(1, n + 1):\n",
    "    k = Collatz(i)\n",
    "    if k > L: ans = i; L = k\n",
    "print(ans, L)"
   ]
  },
  {
   "cell_type": "code",
   "execution_count": null,
   "id": "f01bb45a",
   "metadata": {},
   "outputs": [
    {
     "name": "stdout",
     "output_type": "stream",
     "text": [
      "4\n"
     ]
    }
   ],
   "source": [
    "#W4A11: EvenDivisors\n",
    "n = int(input())\n",
    "temp, ans = 2, 1\n",
    "if n % 2: print(0)\n",
    "else:\n",
    "    while temp ** temp < n:\n",
    "        if n % temp == 0: ans += 2 if (n//temp) % 2 == 0 else 1\n",
    "        temp += 2\n",
    "    if temp * temp == n: ans += 1\n",
    "    print(ans)"
   ]
  },
  {
   "cell_type": "code",
   "execution_count": null,
   "id": "337bebe5",
   "metadata": {},
   "outputs": [
    {
     "name": "stdout",
     "output_type": "stream",
     "text": [
      "1\n"
     ]
    }
   ],
   "source": [
    "#W4A12: Interest\n",
    "x, n = input().split(\" \")\n",
    "x = float(x)\n",
    "n = int(n)\n",
    "for i in range(n): x *= 1.007\n",
    "print(f'{x:.0f}')\n",
    "#print(f'{x*((1.007)**n):.0f}')"
   ]
  },
  {
   "cell_type": "code",
   "execution_count": 48,
   "id": "73690182",
   "metadata": {},
   "outputs": [
    {
     "name": "stdout",
     "output_type": "stream",
     "text": [
      "32\n"
     ]
    }
   ],
   "source": [
    "#Bonus\n",
    "n = int(input())\n",
    "ans = 0\n",
    "if n < 0: n = -n\n",
    "while n:\n",
    "    if n % 2 == 0: ans += (n % 10)\n",
    "    n //= 10\n",
    "print(ans)"
   ]
  },
  {
   "cell_type": "code",
   "execution_count": 52,
   "id": "d154b880",
   "metadata": {},
   "outputs": [
    {
     "name": "stdout",
     "output_type": "stream",
     "text": [
      "True\n"
     ]
    }
   ],
   "source": [
    "#W4A13: ClosePairNumber\n",
    "def link(x):\n",
    "    ans, temp = 1, 2\n",
    "    while temp * temp < x:\n",
    "        if x % temp == 0: ans += (temp + x // temp)\n",
    "        temp += 1\n",
    "    if temp ** 2 == x: ans += temp\n",
    "    return ans\n",
    "\n",
    "x, y = map(int, input().split(\" \"))\n",
    "print(link(x) == y and link(y) == x)"
   ]
  },
  {
   "cell_type": "code",
   "execution_count": null,
   "id": "22edbc08",
   "metadata": {},
   "outputs": [
    {
     "name": "stdout",
     "output_type": "stream",
     "text": [
      "12\n"
     ]
    }
   ],
   "source": [
    "#W4A14: GCD\n",
    "m, n = map(int, input().split(\" \"))\n",
    "while m != n and m != 0 and n != 0:\n",
    "    if m > n: m %= n\n",
    "    else: n %= m\n",
    "print(m if m else n)\n",
    "\n",
    "#from math import gcd\n",
    "#print(gcd(m, n))"
   ]
  },
  {
   "cell_type": "code",
   "execution_count": 55,
   "id": "a707cd51",
   "metadata": {},
   "outputs": [
    {
     "name": "stdout",
     "output_type": "stream",
     "text": [
      "Gà: 22, Chó: 14\n"
     ]
    }
   ],
   "source": [
    "#W4A15: ChickenAndDog\n",
    "#Giải hệ x + y = a, 2x + 4y = b\n",
    "a, b = map(int, input().split(\" \"))\n",
    "if (b - 2 * a) % 2: print(\"invalid\")\n",
    "else:\n",
    "    y = (b - 2 * a) // 2\n",
    "    x = a - y\n",
    "    if x >= 0 and y >= 0: print(f'Gà: {x}, Chó: {y}')\n",
    "    else: print(\"invalid\") "
   ]
  }
 ],
 "metadata": {
  "kernelspec": {
   "display_name": "Python 3",
   "language": "python",
   "name": "python3"
  },
  "language_info": {
   "codemirror_mode": {
    "name": "ipython",
    "version": 3
   },
   "file_extension": ".py",
   "mimetype": "text/x-python",
   "name": "python",
   "nbconvert_exporter": "python",
   "pygments_lexer": "ipython3",
   "version": "3.11.0"
  }
 },
 "nbformat": 4,
 "nbformat_minor": 5
}
