{
 "cells": [
  {
   "cell_type": "code",
   "execution_count": null,
   "id": "67445221",
   "metadata": {},
   "outputs": [
    {
     "name": "stdout",
     "output_type": "stream",
     "text": [
      "15 16\n"
     ]
    }
   ],
   "source": [
    "#HW2A1\n",
    "a, b = map(float, input().split())\n",
    "print(a * b, 2 * (a + b))"
   ]
  },
  {
   "cell_type": "code",
   "execution_count": null,
   "id": "f3227a7c",
   "metadata": {},
   "outputs": [
    {
     "name": "stdout",
     "output_type": "stream",
     "text": [
      "3.141592653589793 6.283185307179586\n"
     ]
    }
   ],
   "source": [
    "#HW2A2\n",
    "from math import pi\n",
    "r = float(input())\n",
    "print(pi * (r ** 2), 2 * pi * r)"
   ]
  },
  {
   "cell_type": "code",
   "execution_count": 6,
   "id": "d6193195",
   "metadata": {},
   "outputs": [
    {
     "name": "stdout",
     "output_type": "stream",
     "text": [
      "Vuông\n",
      "6.0 12.0\n"
     ]
    }
   ],
   "source": [
    "#HW2A3\n",
    "from math import sqrt\n",
    "def Check_Triangle(a, b, c):\n",
    "    if a == b == c: print('Đều') #max(a, b, c) == min(a, b, c)\n",
    "    elif a**2 + b**2 == c**2 or a**2 + c**2 == b**2 or a**2 == b**2 + c**2: print(\"Vuông\")\n",
    "    elif a == b or b == c or c == a: print(\"Cân\")\n",
    "    else: print(\"Thường\")\n",
    "\n",
    "def FindCS(a, b, c):\n",
    "    p = (a + b + c) / 2\n",
    "    print(sqrt(p*(p-a)*(p-b)*(p-c)), a + b + c)\n",
    "\n",
    "a, b, c = map(float, input().split())\n",
    "if a <= 0 or b <= 0 or c <= 0 or a + b <= c or a + c <= b or b + c <= a: print(\"Khong la ba canh cua mot tam giac\")\n",
    "else: Check_Triangle(a, b, c); FindCS(a, b, c)"
   ]
  },
  {
   "cell_type": "code",
   "execution_count": null,
   "id": "b9e3a10c-cd1d-4b0f-adc6-1eec751b4b21",
   "metadata": {},
   "outputs": [
    {
     "name": "stdout",
     "output_type": "stream",
     "text": [
      "-1.3333333333333333\n"
     ]
    }
   ],
   "source": [
    "#HW2A4\n",
    "a, b = map(float, input().split())\n",
    "if a == b == 0: print(\"Vô số nghiệm\")\n",
    "elif a == 0: print(\"Vô nghiệm\")\n",
    "else: print(-b/a)"
   ]
  },
  {
   "cell_type": "code",
   "execution_count": 4,
   "id": "c5de4ae6",
   "metadata": {},
   "outputs": [
    {
     "name": "stdout",
     "output_type": "stream",
     "text": [
      "-1.5 -1.0\n"
     ]
    }
   ],
   "source": [
    "#HW2A5\n",
    "from math import sqrt\n",
    "a, b, c = map(float, input().split())\n",
    "if a == 0:\n",
    "    if b == c == 0: print(\"Vô số nghiệm\")\n",
    "    elif b == 0: print(\"Vô nghiệm\")\n",
    "    else: print(-c/b)\n",
    "else:\n",
    "    delta = b**2 - 4 * a * c\n",
    "    if delta < 0: print(\"Vô nghiệm\")\n",
    "    elif delta == 0: print(-b / (2 * a))\n",
    "    else: print((-b - sqrt(delta))/(2 * a), (-b + sqrt(delta))/(2 * a))"
   ]
  },
  {
   "cell_type": "code",
   "execution_count": null,
   "id": "b9d166b5",
   "metadata": {},
   "outputs": [
    {
     "name": "stdout",
     "output_type": "stream",
     "text": [
      "4.0\n"
     ]
    }
   ],
   "source": [
    "#HW2A6\n",
    "a, b, c, d = map(float, input().split())\n",
    "print(max(a, b, c, d))"
   ]
  },
  {
   "cell_type": "code",
   "execution_count": null,
   "id": "9cf4a855",
   "metadata": {},
   "outputs": [
    {
     "name": "stdout",
     "output_type": "stream",
     "text": [
      " 1 2 3 4\n"
     ]
    },
    {
     "name": "stdout",
     "output_type": "stream",
     "text": [
      "1\n"
     ]
    }
   ],
   "source": [
    "#HW2A7\n",
    "a, b, c, d = map(float, input().split())\n",
    "print(min(a, b, c, d))"
   ]
  },
  {
   "cell_type": "code",
   "execution_count": null,
   "id": "0a081bea",
   "metadata": {},
   "outputs": [
    {
     "name": "stdout",
     "output_type": "stream",
     "text": [
      "Hệ có nghiệm duy nhất x = -1.0, y = 2.0\n"
     ]
    }
   ],
   "source": [
    "#HW2A8: Giải hệ ax+by=m, cx+dy=n\n",
    "a, b, m = map(float, input().split())\n",
    "c, d, n = map(float, input().split())\n",
    "D = a * d - b * c\n",
    "Dx = m * d - n * b\n",
    "Dy = a * n - m * c\n",
    "if not D:\n",
    "    if a == 0: \n",
    "        if b == 0 == m: \n",
    "            if c == d == 0: print(\"Hệ vô nghiệm\" if n else \"Hệ vô số nghiệm\")\n",
    "            else: print(\"Hệ vô số nghiệm\")\n",
    "        elif b == 0 != m: print('Hệ vô nghiệm')\n",
    "        else:\n",
    "            y = m / b \n",
    "            #Giải cx+dy=n\n",
    "            if (n - d * y) == 0 == c: print('Hệ vô số nghiệm')\n",
    "            elif c == 0: print(\"Hệ vô nghiệm\")\n",
    "            else: print(f'Hệ có nghiệm duy nhất x = {(n - d * y) / c}, y = {y}')\n",
    "    else: print(\"Hệ vô nghiệm\" if Dy else \"Hệ vô số nghiệm\")\n",
    "else: print(f'Hệ có nghiệm duy nhất x = {Dx/D}, y = {Dy/D}')"
   ]
  },
  {
   "cell_type": "code",
   "execution_count": 13,
   "id": "e0ef4b8f",
   "metadata": {},
   "outputs": [
    {
     "name": "stdout",
     "output_type": "stream",
     "text": [
      "1.0 giờ 0.0 phút 0.0 giây\n"
     ]
    }
   ],
   "source": [
    "#HW2A9\n",
    "x = float(input())\n",
    "h = x // 3600\n",
    "x -= 3600 * h\n",
    "m = x // 60\n",
    "x -= 60 * m\n",
    "print(f'{h} giờ {m} phút {x} giây')"
   ]
  },
  {
   "cell_type": "code",
   "execution_count": 16,
   "id": "086841e0",
   "metadata": {},
   "outputs": [
    {
     "name": "stdout",
     "output_type": "stream",
     "text": [
      "A không thuộc đường tròn\n"
     ]
    }
   ],
   "source": [
    "#HW2A10\n",
    "a, b, r = map(float, input().split())\n",
    "x, y = map(float, input().split())\n",
    "print(\"A thuộc đường tròn\" if (x - a) ** 2 + (y - b) ** 2 <= r else \"A không thuộc đường tròn\")"
   ]
  },
  {
   "cell_type": "code",
   "execution_count": 5,
   "id": "e0c4f3e2",
   "metadata": {},
   "outputs": [
    {
     "name": "stdout",
     "output_type": "stream",
     "text": [
      "16.0\n"
     ]
    }
   ],
   "source": [
    "#HW2A11\n",
    "x, y = map(float, input().split())\n",
    "print(x ** y) #pow(x, y)"
   ]
  }
 ],
 "metadata": {
  "kernelspec": {
   "display_name": "Python 3",
   "language": "python",
   "name": "python3"
  },
  "language_info": {
   "codemirror_mode": {
    "name": "ipython",
    "version": 3
   },
   "file_extension": ".py",
   "mimetype": "text/x-python",
   "name": "python",
   "nbconvert_exporter": "python",
   "pygments_lexer": "ipython3",
   "version": "3.11.0"
  }
 },
 "nbformat": 4,
 "nbformat_minor": 5
}
