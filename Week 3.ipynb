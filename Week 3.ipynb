{
 "cells": [
  {
   "cell_type": "code",
   "execution_count": 52,
   "id": "80f15f0a",
   "metadata": {},
   "outputs": [
    {
     "name": "stdout",
     "output_type": "stream",
     "text": [
      "3 2\n"
     ]
    }
   ],
   "source": [
    "#W3A2\n",
    "a, b = map(int, input().split())\n",
    "a ^= b\n",
    "b ^= a\n",
    "a ^= b\n",
    "print(a, b)"
   ]
  },
  {
   "cell_type": "code",
   "execution_count": null,
   "id": "a4acb11f",
   "metadata": {},
   "outputs": [
    {
     "name": "stdout",
     "output_type": "stream",
     "text": [
      "True\n"
     ]
    }
   ],
   "source": [
    "#W3A3\n",
    "n = int(input())\n",
    "print(n & (n - 1) == 0)"
   ]
  },
  {
   "cell_type": "code",
   "execution_count": null,
   "id": "487ea8b1",
   "metadata": {},
   "outputs": [
    {
     "name": "stdout",
     "output_type": "stream",
     "text": [
      "2\n"
     ]
    }
   ],
   "source": [
    "#W3A4\n",
    "m, n = map(int, input().split())\n",
    "print(m // n)"
   ]
  },
  {
   "cell_type": "code",
   "execution_count": null,
   "id": "09b9b1a2",
   "metadata": {},
   "outputs": [
    {
     "name": "stdout",
     "output_type": "stream",
     "text": [
      "2\n"
     ]
    }
   ],
   "source": [
    "#W3A5\n",
    "from math import ceil\n",
    "m, n = map(int, input().split())\n",
    "print(ceil(m / n))  #(m + (n - 1) // n)"
   ]
  },
  {
   "cell_type": "code",
   "execution_count": 42,
   "id": "a6cf646d",
   "metadata": {},
   "outputs": [
    {
     "name": "stdout",
     "output_type": "stream",
     "text": [
      "Even\n"
     ]
    }
   ],
   "source": [
    "#W3A6\n",
    "x = int(input())\n",
    "print(\"Odd\" if x & 1 else \"Even\")"
   ]
  },
  {
   "cell_type": "code",
   "execution_count": 50,
   "id": "dcb5e60c",
   "metadata": {},
   "outputs": [
    {
     "name": "stdout",
     "output_type": "stream",
     "text": [
      "No\n"
     ]
    }
   ],
   "source": [
    "#W3A7\n",
    "a, b = map(int, input().split())\n",
    "print(\"Yes\" if a < 0 and b < 0 else \"No\")"
   ]
  },
  {
   "cell_type": "code",
   "execution_count": 51,
   "id": "cdc2d609",
   "metadata": {},
   "outputs": [
    {
     "name": "stdout",
     "output_type": "stream",
     "text": [
      "False\n"
     ]
    }
   ],
   "source": [
    "#W3A8\n",
    "a = input()\n",
    "b = input()\n",
    "print(len(a) > len(b))"
   ]
  },
  {
   "cell_type": "code",
   "execution_count": 48,
   "id": "0bf164af",
   "metadata": {},
   "outputs": [
    {
     "name": "stdout",
     "output_type": "stream",
     "text": [
      "No\n"
     ]
    }
   ],
   "source": [
    "#W3A9\n",
    "a, b, c = map(int, input().split())\n",
    "print(\"Yes\" if a + b > c and a + c > b and b + c > a else \"No\")"
   ]
  },
  {
   "cell_type": "code",
   "execution_count": 47,
   "id": "050332fc",
   "metadata": {},
   "outputs": [
    {
     "name": "stdout",
     "output_type": "stream",
     "text": [
      "4\n"
     ]
    }
   ],
   "source": [
    "#W3A10\n",
    "a, b, c, d = map(int, input().split())\n",
    "print(max(a, b, c, d))"
   ]
  },
  {
   "cell_type": "code",
   "execution_count": 57,
   "id": "0659965e",
   "metadata": {},
   "outputs": [
    {
     "name": "stdout",
     "output_type": "stream",
     "text": [
      "Tam giác cân\n"
     ]
    }
   ],
   "source": [
    "#W3A11\n",
    "a, b, c = map(int, input().split())\n",
    "if a + b <= c or a + c <= b or b + c <= a: print(\"Không phải tam giác\")\n",
    "elif a == b == c: print(\"Tam giác đều\")\n",
    "elif a == b or b == c or c == a: print(\"Tam giác cân\")\n",
    "else: print(\"Tam giác thường\")"
   ]
  },
  {
   "cell_type": "code",
   "execution_count": 56,
   "id": "babbf220",
   "metadata": {},
   "outputs": [
    {
     "name": "stdout",
     "output_type": "stream",
     "text": [
      "Yes\n"
     ]
    }
   ],
   "source": [
    "#W3A12\n",
    "n = int(input())\n",
    "print(\"Yes\" if ((not n % 4) and n % 100) or (not n % 400) else \"No\")"
   ]
  },
  {
   "cell_type": "code",
   "execution_count": 3,
   "id": "e6b3ab1f",
   "metadata": {},
   "outputs": [
    {
     "name": "stdout",
     "output_type": "stream",
     "text": [
      "Vo so nghiem\n"
     ]
    }
   ],
   "source": [
    "#w3A14\n",
    "a, b = map(float, input().split())\n",
    "if a == b == 0: print(\"Vo so nghiem\")\n",
    "elif a == 0: print(\"Vo nghiem\")\n",
    "else: print(f'{-b/a:.2f}')"
   ]
  },
  {
   "cell_type": "code",
   "execution_count": null,
   "id": "95b1234c",
   "metadata": {},
   "outputs": [
    {
     "name": "stdout",
     "output_type": "stream",
     "text": [
      "Yếu\n",
      "Yếu\n"
     ]
    }
   ],
   "source": [
    "#W3A15\n",
    "a = float(input())\n",
    "print(\"Giỏi\" if a >= 8 else \"Khá\" if a >= 6.5 else \"Trung bình\" if a >= 5 else \"Yếu\")\n",
    "\"\"\"\n",
    "match a:\n",
    "    case t if t >= 8: print(\"Giỏi\")\n",
    "    case t if t >= 6.5: print(\"Khá\")\n",
    "    case t if t >= 5: print(\"Trung bình\")\n",
    "    case _: print(\"Yếu\")\n",
    "\"\"\""
   ]
  },
  {
   "cell_type": "code",
   "execution_count": 17,
   "id": "d0e15498",
   "metadata": {},
   "outputs": [
    {
     "name": "stdout",
     "output_type": "stream",
     "text": [
      "3.0 4.0 3.0\n"
     ]
    }
   ],
   "source": [
    "#W3A16\n",
    "a = float(input())\n",
    "print(a//1, (a//1)+(a//1 < a), (a//1)+(a >= (a//1)+1/2))"
   ]
  },
  {
   "cell_type": "code",
   "execution_count": 22,
   "id": "0b56c194",
   "metadata": {},
   "outputs": [
    {
     "name": "stdout",
     "output_type": "stream",
     "text": [
      "Yes\n"
     ]
    }
   ],
   "source": [
    "#W3A17\n",
    "a, b, c, d = map(int, input().split())\n",
    "if b % a: print(\"No\")\n",
    "else:\n",
    "    temp = b / a\n",
    "    print(\"No\" if c / b != temp or d/c != temp else \"Yes\")"
   ]
  }
 ],
 "metadata": {
  "kernelspec": {
   "display_name": "Python 3",
   "language": "python",
   "name": "python3"
  },
  "language_info": {
   "codemirror_mode": {
    "name": "ipython",
    "version": 3
   },
   "file_extension": ".py",
   "mimetype": "text/x-python",
   "name": "python",
   "nbconvert_exporter": "python",
   "pygments_lexer": "ipython3",
   "version": "3.11.0"
  }
 },
 "nbformat": 4,
 "nbformat_minor": 5
}
