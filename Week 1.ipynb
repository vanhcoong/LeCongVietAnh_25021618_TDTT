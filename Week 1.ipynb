{
 "cells": [
  {
   "cell_type": "code",
   "execution_count": null,
   "id": "bdc265d4-d100-413e-b7c4-1f6c8d33f082",
   "metadata": {},
   "outputs": [],
   "source": [
    "#W1A1\n",
    "a = 7\n",
    "b = 5\n",
    "c = a - b\n",
    "print(c)"
   ]
  },
  {
   "cell_type": "code",
   "execution_count": null,
   "id": "ddb4c880-5926-4a42-bb4b-aaf1119d0b0e",
   "metadata": {},
   "outputs": [],
   "source": [
    "#W1A2\n",
    "city = \"Ha Noi\"\n",
    "year = 2025\n",
    "print(\"Thanh Pho\", city, \"- Nam\", year, \"Hom nay la ngay: \", end=\"\")\n",
    "ngay = 16\n",
    "thang = 9\n",
    "nam = 2025\n",
    "print(ngay, thang, nam, sep=\"-\")"
   ]
  },
  {
   "cell_type": "code",
   "execution_count": null,
   "id": "ab67dbd4-a44b-4b78-b316-e5116bc59c24",
   "metadata": {},
   "outputs": [],
   "source": [
    "#W1A3\n",
    "n = 4\n",
    "t = 0\n",
    "for i in range(1, n+1):\n",
    "    t += i # t = t + i\n",
    "    print(t) # thuộc vòng for\n",
    "n, t = 4, 0\n",
    "for i in range(1, n + 1):\n",
    "    t += i\n",
    "print(t) # ngoài vòng for"
   ]
  },
  {
   "cell_type": "code",
   "execution_count": null,
   "id": "409d44c0-3d6d-4ce4-a324-1f2a67743385",
   "metadata": {},
   "outputs": [],
   "source": [
    "#W1A4\n",
    "numbers = [1, 2, 3, 4]\n",
    "for x in numbers:\n",
    "    if x % 2 == 0:\n",
    "        print(x, \"là số chẵn\")\n",
    "    else:\n",
    "        print(x, \"là số lẻ\")"
   ]
  },
  {
   "cell_type": "code",
   "execution_count": null,
   "id": "7cede377-b2d8-490f-b6ec-0eab3e5698d0",
   "metadata": {},
   "outputs": [],
   "source": [
    "#W1A5\n",
    "animals = [\"cat\", \"dog\", \"cat\", \"bird\"]\n",
    "count = 0\n",
    "for a in animals:\n",
    "    count += 1\n",
    "print(\"Số phần tử trong danh sách là:\", count)"
   ]
  },
  {
   "cell_type": "code",
   "execution_count": null,
   "id": "b7462eb3-e8bd-4d14-93c8-6c0a5b2522d1",
   "metadata": {},
   "outputs": [],
   "source": [
    "#W1A6\n",
    "print(\"=== AI Prediction System ===\")\n",
    "print(\"1 Sentiment analysis\")\n",
    "print(\"2 Weather forecast\")\n",
    "print('3 Exit')\n",
    "print(\"Please choose an option:\") "
   ]
  },
  {
   "cell_type": "code",
   "execution_count": null,
   "id": "44ceacbc-743e-4061-8eb8-5b694265d70e",
   "metadata": {},
   "outputs": [],
   "source": [
    "#W1A7\n",
    "num = int(input(\"Nhập số: \"))\n",
    "if not num % 2:\n",
    "    print(\"Số chẵn\")\n",
    "else:\n",
    "    print(\"Số lẻ\") \n"
   ]
  },
  {
   "cell_type": "code",
   "execution_count": null,
   "id": "f785496a-aff1-40d3-96e1-2bd9ae4ce905",
   "metadata": {},
   "outputs": [],
   "source": [
    "#W1A8\n",
    "for i in range(3):\n",
    "    print(\"AI đang học lần\", i + 1)\n",
    "print(\"Huấn luyện xong!\") \n"
   ]
  },
  {
   "cell_type": "code",
   "execution_count": 1,
   "id": "cd4e80c2-e096-45f9-ad35-410822b73da3",
   "metadata": {},
   "outputs": [
    {
     "name": "stdout",
     "output_type": "stream",
     "text": [
      "Dự đoán con vật: cat\n",
      "Dự đoán con vật: dog\n",
      "Dự đoán con vật: fish\n"
     ]
    }
   ],
   "source": [
    "#W1A9\n",
    "for x in [\"cat\", \"dog\", \"fish\"]:\n",
    "    print(\"Dự đoán con vật:\", x) "
   ]
  },
  {
   "cell_type": "code",
   "execution_count": null,
   "id": "8ab77be4-7099-4b51-9b4f-9ef4c3398cd7",
   "metadata": {},
   "outputs": [],
   "source": [
    "#W1A10\n",
    "print(\"=== AI Prediction System ===\")\n",
    "print(\"1 Sentiment analysis\")\n",
    "print(\"2 Weather forecast\")\n",
    "print('3 Exit')\n",
    "print(\"Please choose an option:\") \n"
   ]
  }
 ],
 "metadata": {
  "kernelspec": {
   "display_name": "Python 3",
   "language": "python",
   "name": "python3"
  },
  "language_info": {
   "codemirror_mode": {
    "name": "ipython",
    "version": 3
   },
   "file_extension": ".py",
   "mimetype": "text/x-python",
   "name": "python",
   "nbconvert_exporter": "python",
   "pygments_lexer": "ipython3",
   "version": "3.11.0"
  }
 },
 "nbformat": 4,
 "nbformat_minor": 5
}
