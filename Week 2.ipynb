{
 "cells": [
  {
   "cell_type": "code",
   "execution_count": null,
   "id": "e3a40c3a-90eb-44bf-8cf7-b159ea8c285d",
   "metadata": {},
   "outputs": [],
   "source": [
    "#W2A1\n",
    "print(\"Hello World!\")"
   ]
  },
  {
   "cell_type": "code",
   "execution_count": 2,
   "id": "2d67bb0c-3a27-4e04-adc4-5a4b735a5b80",
   "metadata": {},
   "outputs": [
    {
     "name": "stdout",
     "output_type": "stream",
     "text": [
      " Hoang Mai Tuan Hiep\n"
     ]
    },
    {
     "name": "stdout",
     "output_type": "stream",
     "text": [
      "Hello Hoang Mai Tuan Hiep\n"
     ]
    }
   ],
   "source": [
    "#W2A2\n",
    "name = input()\n",
    "print(\"Hello\", name)"
   ]
  },
  {
   "cell_type": "code",
   "execution_count": 30,
   "id": "fabeb42e-35c6-44bb-97e3-e00adc2c9a3b",
   "metadata": {},
   "outputs": [
    {
     "name": "stdout",
     "output_type": "stream",
     "text": [
      " 5\n",
      " 3\n"
     ]
    },
    {
     "name": "stdout",
     "output_type": "stream",
     "text": [
      "5 + 3 = 8\n",
      "5 - 3 = 2\n",
      "5 * 3 = 15\n",
      "5 // 3 = 1\n",
      "5 % 3 = 2\n",
      "5 / 3 = 1.67\n"
     ]
    }
   ],
   "source": [
    "# W2A3\n",
    "a = int(input())\n",
    "b = int(input())\n",
    "# print(a + b, a - b, a * b, a // b, a % b, round(a / b, 2), sep = \"\\n\")\n",
    "print(f'{a} + {b} = {a + b}')\n",
    "print(f'{a} - {b} = {a - b}')\n",
    "print(f'{a} * {b} = {a * b}')\n",
    "print(f'{a} // {b} = {a // b}')\n",
    "print(f'{a} % {b} = {a % b}')\n",
    "print(f'{a} / {b} = {a/b:.2f}')"
   ]
  },
  {
   "cell_type": "code",
   "execution_count": 31,
   "id": "cc756928-5a83-4069-b5eb-be4c532f442b",
   "metadata": {},
   "outputs": [
    {
     "name": "stdout",
     "output_type": "stream",
     "text": [
      " 10 8 2 2 4 5\n"
     ]
    },
    {
     "name": "stdout",
     "output_type": "stream",
     "text": [
      "4.7\n"
     ]
    }
   ],
   "source": [
    "#W2A4\n",
    "a1, b1, c1, a2, b2, a3 = map(int, input().split(\" \"))\n",
    "print(f'{((a1 + b1 + c1) + 2 * (a2 + b2) + 3 * a3) / 10:.1f}')"
   ]
  },
  {
   "cell_type": "code",
   "execution_count": 21,
   "id": "d2b2e6b8-7dfe-4821-839f-8b33459a3bbb",
   "metadata": {},
   "outputs": [
    {
     "name": "stdout",
     "output_type": "stream",
     "text": [
      " 2 3\n"
     ]
    },
    {
     "name": "stdout",
     "output_type": "stream",
     "text": [
      "8\n"
     ]
    }
   ],
   "source": [
    "#W2A5\n",
    "a, b = map(int, input().split())\n",
    "print(a**b)"
   ]
  },
  {
   "cell_type": "code",
   "execution_count": 28,
   "id": "b570f26e-41b1-4c02-8f29-6bfbe0f244bb",
   "metadata": {},
   "outputs": [
    {
     "name": "stdout",
     "output_type": "stream",
     "text": [
      " ư\n"
     ]
    },
    {
     "name": "stdout",
     "output_type": "stream",
     "text": [
      "432 Ư\n"
     ]
    }
   ],
   "source": [
    "#W2A6\n",
    "a = input()\n",
    "print(ord(a), a.upper())"
   ]
  },
  {
   "cell_type": "code",
   "execution_count": 29,
   "id": "3a156dc7-8802-4e34-b29c-376271278831",
   "metadata": {},
   "outputs": [
    {
     "name": "stdout",
     "output_type": "stream",
     "text": [
      "512 512\n"
     ]
    }
   ],
   "source": [
    "#W2A7\n",
    "A = ((13 ** 2) * 3) + 5\n",
    "B = 13**2*3 + 5\n",
    "print(A, B)"
   ]
  },
  {
   "cell_type": "code",
   "execution_count": 32,
   "id": "8946b648-d2d8-4047-abcc-8ed67673f474",
   "metadata": {},
   "outputs": [
    {
     "name": "stdout",
     "output_type": "stream",
     "text": [
      " 35.5\n"
     ]
    },
    {
     "name": "stdout",
     "output_type": "stream",
     "text": [
      "63.90\n"
     ]
    }
   ],
   "source": [
    "#W2A8\n",
    "C = float(input())\n",
    "print(f'{9/5*C:.2f}')"
   ]
  },
  {
   "cell_type": "code",
   "execution_count": 54,
   "id": "3580098a-34e9-41e9-8723-72075ae3f712",
   "metadata": {},
   "outputs": [
    {
     "name": "stdout",
     "output_type": "stream",
     "text": [
      " 100\n"
     ]
    },
    {
     "name": "stdout",
     "output_type": "stream",
     "text": [
      "50.00\n"
     ]
    }
   ],
   "source": [
    "#W2A9\n",
    "x = float(input())\n",
    "print(f'{10+0.4*x:.2f}')\n"
   ]
  },
  {
   "cell_type": "code",
   "execution_count": 3,
   "id": "353447fc-7159-4baf-9d72-d7c6de839b00",
   "metadata": {},
   "outputs": [
    {
     "name": "stdout",
     "output_type": "stream",
     "text": [
      "Hi BC, B and A\n"
     ]
    }
   ],
   "source": [
    "#W2A10\n",
    "a, b, c = input().split()\n",
    "print(f'Hi {c}, {b} and {a}')"
   ]
  },
  {
   "cell_type": "code",
   "execution_count": 4,
   "id": "9862c47c-87b0-47b6-b146-d37f97738479",
   "metadata": {},
   "outputs": [
    {
     "name": "stdout",
     "output_type": "stream",
     "text": [
      "85380\n"
     ]
    }
   ],
   "source": [
    "#W2A11\n",
    "h, m = map(int, input().split())\n",
    "print(h * 3600 + m * 60)"
   ]
  },
  {
   "cell_type": "code",
   "execution_count": 55,
   "id": "5f4f8c61-63a5-46ac-9256-65c1e9eb12e2",
   "metadata": {},
   "outputs": [
    {
     "name": "stdout",
     "output_type": "stream",
     "text": [
      " 2\n"
     ]
    },
    {
     "name": "stdout",
     "output_type": "stream",
     "text": [
      "24\n"
     ]
    }
   ],
   "source": [
    "#W2A12\n",
    "n = int(input())\n",
    "print(n**2*6)"
   ]
  },
  {
   "cell_type": "code",
   "execution_count": 43,
   "id": "832f06b4-6207-428a-88a3-3d555c0f27db",
   "metadata": {},
   "outputs": [
    {
     "name": "stdout",
     "output_type": "stream",
     "text": [
      " 113333872878372 392839082309384093\n"
     ]
    },
    {
     "name": "stdout",
     "output_type": "stream",
     "text": [
      "6\n"
     ]
    }
   ],
   "source": [
    "#W2A13\n",
    "a, b = map(int, input().split())\n",
    "print((a % 10) * (b % 10) % 10)"
   ]
  },
  {
   "cell_type": "code",
   "execution_count": 50,
   "id": "b148cebf-4144-4fe0-b731-fb5c2f3190bb",
   "metadata": {},
   "outputs": [
    {
     "name": "stdout",
     "output_type": "stream",
     "text": [
      " 4 5\n"
     ]
    },
    {
     "name": "stdout",
     "output_type": "stream",
     "text": [
      "5 4\n"
     ]
    }
   ],
   "source": [
    "#W2A14\n",
    "a, b = map(int, input().split())\n",
    "a, b = b, a\n",
    "\"\"\"\n",
    "a = a + b\n",
    "b = a - b\n",
    "a = a - b\n",
    "\"\"\"\n",
    "print(a, b)"
   ]
  },
  {
   "cell_type": "code",
   "execution_count": 42,
   "id": "5eba542a-dbd7-49bd-8fe4-6141579cd828",
   "metadata": {},
   "outputs": [
    {
     "name": "stdout",
     "output_type": "stream",
     "text": [
      " 4\n"
     ]
    },
    {
     "name": "stdout",
     "output_type": "stream",
     "text": [
      "28\n"
     ]
    }
   ],
   "source": [
    "#W2A15\n",
    "# Số sao thứ n = n(2n - 1)\n",
    "n = int(input())\n",
    "print(n*(2*n - 1))"
   ]
  },
  {
   "cell_type": "code",
   "execution_count": 41,
   "id": "f98b2cf3-236c-4aa2-ad3b-9727cbf7eea5",
   "metadata": {},
   "outputs": [
    {
     "name": "stdout",
     "output_type": "stream",
     "text": [
      "Spring\n",
      "Summer\n",
      "Autumn\n",
      "Winter\n"
     ]
    }
   ],
   "source": [
    "#W2A16\n",
    "print(\"Spring\\nSummer\\nAutumn\\nWinter\")"
   ]
  },
  {
   "cell_type": "code",
   "execution_count": 57,
   "id": "451747b5-c680-41e9-850d-dd564498716f",
   "metadata": {},
   "outputs": [
    {
     "name": "stdout",
     "output_type": "stream",
     "text": [
      "  *\n",
      " ***\n",
      "*****\n"
     ]
    }
   ],
   "source": [
    "#W217\n",
    "\"\"\"\n",
    "for i in range(0, 3):\n",
    "    print(\"*\"*(2*i+1))\n",
    "\n",
    "*\n",
    "***\n",
    "*****\n",
    "\"\"\"\n",
    "n = 3\n",
    "temp = n - 1\n",
    "for i in range(0, 3):\n",
    "    space = (temp - i)\n",
    "    print(\" \" * space, end=\"\")\n",
    "    print(\"*\" * (2 * i + 1))\n",
    "    "
   ]
  },
  {
   "cell_type": "code",
   "execution_count": 39,
   "id": "85d719ca-5231-4565-9812-ccdfd1a56c8f",
   "metadata": {},
   "outputs": [
    {
     "name": "stdout",
     "output_type": "stream",
     "text": [
      "### ##   ### ###\n",
      " #  # #   #   #\n",
      " #  #  #  #   #\n",
      " #  # #   #   #\n",
      " #  ##    #   #\n"
     ]
    }
   ],
   "source": [
    "#W2A18\n",
    "print(\"### ##   ### ###\")\n",
    "print(\" #  # #   #   #\")\n",
    "print(\" #  #  #  #   #\")\n",
    "print(\" #  # #   #   #\")\n",
    "print(\" #  ##    #   #\")"
   ]
  },
  {
   "cell_type": "code",
   "execution_count": 36,
   "id": "70ade375-6b1d-4e4c-8b95-db97bdc17eda",
   "metadata": {},
   "outputs": [
    {
     "name": "stdout",
     "output_type": "stream",
     "text": [
      "Monday\n",
      "Tuesday\n",
      "Wednesday\n",
      "Thursday\n",
      "Friday\n",
      "Saturday\n",
      "Sunday\n"
     ]
    }
   ],
   "source": [
    "#W2A19\n",
    "print('Monday',\n",
    "'Tuesday',\n",
    "'Wednesday',\n",
    "'Thursday',\n",
    "'Friday',\n",
    "'Saturday',\n",
    "'Sunday', sep='\\n')"
   ]
  },
  {
   "cell_type": "code",
   "execution_count": 35,
   "id": "7508a1b8-39d7-48a2-9953-2eb57d4458e7",
   "metadata": {},
   "outputs": [
    {
     "name": "stdout",
     "output_type": "stream",
     "text": [
      "January\n",
      "February\n",
      "March\n",
      "April\n",
      "May\n",
      "June\n",
      "July\n",
      "August\n",
      "September\n",
      "October\n",
      "November\n",
      "December\n"
     ]
    }
   ],
   "source": [
    "#W2A20\n",
    "print(\"January\", \"February\", \n",
    "'March',\n",
    "'April',\n",
    "'May',\n",
    "'June',\n",
    "'July',\n",
    "'August',\n",
    "'September',\n",
    "'October',\n",
    "'November',\n",
    "'December', sep=\"\\n\")"
   ]
  },
  {
   "cell_type": "code",
   "execution_count": 33,
   "id": "e491e76d-a5c5-4d51-b2e9-5346cf644113",
   "metadata": {},
   "outputs": [
    {
     "name": "stdout",
     "output_type": "stream",
     "text": [
      "Hello, world\n",
      "Hello, world\n",
      "Hello, world\n",
      "Hello, world\n",
      "Hello, world\n",
      "Hello, world\n",
      "Hello, world\n",
      "Hello, world\n",
      "Hello, world\n",
      "Hello, world\n",
      "\n"
     ]
    }
   ],
   "source": [
    "#W2A21\n",
    "print(\"Hello, world\\n\" * 10)"
   ]
  }
 ],
 "metadata": {
  "kernelspec": {
   "display_name": "Python 3",
   "language": "python",
   "name": "python3"
  },
  "language_info": {
   "codemirror_mode": {
    "name": "ipython",
    "version": 3
   },
   "file_extension": ".py",
   "mimetype": "text/x-python",
   "name": "python",
   "nbconvert_exporter": "python",
   "pygments_lexer": "ipython3",
   "version": "3.11.0"
  }
 },
 "nbformat": 4,
 "nbformat_minor": 5
}
