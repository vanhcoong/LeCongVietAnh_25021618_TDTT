{
 "cells": [
  {
   "cell_type": "code",
   "execution_count": 1,
   "id": "52e58cb6",
   "metadata": {},
   "outputs": [
    {
     "name": "stdout",
     "output_type": "stream",
     "text": [
      " 2\n"
     ]
    },
    {
     "name": "stdout",
     "output_type": "stream",
     "text": [
      "4\n"
     ]
    }
   ],
   "source": [
    "#HW1A1\n",
    "n = int(input())\n",
    "print(2 * n)"
   ]
  },
  {
   "cell_type": "code",
   "execution_count": 2,
   "id": "1208f425",
   "metadata": {
    "scrolled": true
   },
   "outputs": [
    {
     "name": "stdout",
     "output_type": "stream",
     "text": [
      " 2 3\n"
     ]
    },
    {
     "name": "stdout",
     "output_type": "stream",
     "text": [
      "2.86\n"
     ]
    }
   ],
   "source": [
    "#HW1A2\n",
    "a, b = map(int, input().split())\n",
    "print(f'{a*b-3.14*a*a/4:.2f}')"
   ]
  },
  {
   "cell_type": "code",
   "execution_count": 3,
   "id": "896e2ec9",
   "metadata": {},
   "outputs": [
    {
     "name": "stdout",
     "output_type": "stream",
     "text": [
      " U\n"
     ]
    },
    {
     "name": "stdout",
     "output_type": "stream",
     "text": [
      "u\n"
     ]
    }
   ],
   "source": [
    "#HW1A3\n",
    "a = input()\n",
    "if a.isupper(): print(a.lower())\n",
    "else: print(a.upper())"
   ]
  },
  {
   "cell_type": "code",
   "execution_count": 1,
   "id": "0bc826ac",
   "metadata": {},
   "outputs": [
    {
     "name": "stdout",
     "output_type": "stream",
     "text": [
      "A là kí tự alphabet\n"
     ]
    }
   ],
   "source": [
    "#HW1A4\n",
    "a = input()\n",
    "if a.isalpha(): print(f'{a} là kí tự alphabet')\n",
    "else: print(f'{a} không phải là kí tự alphabet')"
   ]
  },
  {
   "cell_type": "code",
   "execution_count": 6,
   "id": "eda672d4",
   "metadata": {},
   "outputs": [
    {
     "name": "stdout",
     "output_type": "stream",
     "text": [
      " E\n"
     ]
    },
    {
     "name": "stdout",
     "output_type": "stream",
     "text": [
      "d\n"
     ]
    }
   ],
   "source": [
    "#HW1A5\n",
    "a = input()\n",
    "if a == 'A': print('a')\n",
    "else: print(chr(ord(a.lower()) - 1))"
   ]
  },
  {
   "cell_type": "code",
   "execution_count": null,
   "id": "7651361e-8c1f-4f4a-832f-9ef8744923da",
   "metadata": {},
   "outputs": [
    {
     "name": "stdout",
     "output_type": "stream",
     "text": [
      " 3 4 5\n"
     ]
    },
    {
     "name": "stdout",
     "output_type": "stream",
     "text": [
      "6.00\n"
     ]
    }
   ],
   "source": [
    "#HW1A6\n",
    "from math import sqrt\n",
    "a, b, c = map(int, input().split())\n",
    "if a <= 0 or b <= 0 or c <= 0 or a + b <= c or a + c <= b or b + c <= a: print('Khong phai 3 canh cua tam giac')\n",
    "else:\n",
    "    p = (a + b + c) / 2\n",
    "    print(f'{sqrt(p * (p - a) * (p - b) * (p - c)):.2f}')"
   ]
  },
  {
   "cell_type": "code",
   "execution_count": 11,
   "id": "da0ab5c0-c14b-460c-ac31-563b5943a4fd",
   "metadata": {},
   "outputs": [
    {
     "name": "stdout",
     "output_type": "stream",
     "text": [
      " edkjoeijioewjfoiefjeij\n"
     ]
    },
    {
     "name": "stdout",
     "output_type": "stream",
     "text": [
      "o i\n"
     ]
    }
   ],
   "source": [
    "#HW1A7\n",
    "a = input()\n",
    "print(a[4], a[8])"
   ]
  },
  {
   "cell_type": "code",
   "execution_count": 3,
   "id": "abff9a77-334d-4f62-8be7-3153499686d3",
   "metadata": {},
   "outputs": [
    {
     "name": "stdout",
     "output_type": "stream",
     "text": [
      "Ho va ten: Tran Binh\n",
      "Tien phai tra la: 246110\n"
     ]
    }
   ],
   "source": [
    "#HW1A8\n",
    "def calculate(energy):\n",
    "    ans = 0\n",
    "    price = [0, 1984, 2050, 2380, 2998, 3350, 3460]\n",
    "    min_energy = [0, 0, 50, 100, 200, 300, 400]\n",
    "    for i in range(1, 6):\n",
    "        if energy <= min_energy[i + 1]: ans += (energy - min_energy[i]) * price[i]; break\n",
    "        else: ans += price[i] * (min_energy[i + 1] - min_energy[i])\n",
    "    if (energy >= 400): ans += price[6] * (energy - 400)\n",
    "    return 1.08 * ans\n",
    "\n",
    "def main():\n",
    "    name = input(\"Ten chu ho:\")\n",
    "    before = int(input(\"Chi so thang truoc:\"))\n",
    "    after = int(input(\"Chi so thang nay:\"))\n",
    "    print(f'Ho va ten: {name}\\nTien phai tra la: {calculate(after - before):.0f}')\n",
    "\n",
    "if __name__ == \"__main__\": main()"
   ]
  },
  {
   "cell_type": "code",
   "execution_count": 21,
   "id": "8bc8e585-635d-415e-92e2-b7ccd0c11ef4",
   "metadata": {},
   "outputs": [
    {
     "name": "stdout",
     "output_type": "stream",
     "text": [
      " 10002\n"
     ]
    },
    {
     "name": "stdout",
     "output_type": "stream",
     "text": [
      "Chan\n"
     ]
    }
   ],
   "source": [
    "#HW1O1\n",
    "n = int(input())\n",
    "print(\"Chan\" if n % 2 == 0 else \"Le\")"
   ]
  },
  {
   "cell_type": "code",
   "execution_count": 25,
   "id": "9fa51e0b-1ef3-48f4-afac-a991df899298",
   "metadata": {},
   "outputs": [
    {
     "name": "stdout",
     "output_type": "stream",
     "text": [
      " 12\n"
     ]
    },
    {
     "name": "stdout",
     "output_type": "stream",
     "text": [
      "False\n"
     ]
    }
   ],
   "source": [
    "#HW1O2\n",
    "n = int(input())\n",
    "print(\"True\" if (n % 2) and (not n % 5) else \"False\")"
   ]
  },
  {
   "cell_type": "code",
   "execution_count": 29,
   "id": "a2327d8f-234a-4abd-b703-c269a618db84",
   "metadata": {},
   "outputs": [
    {
     "name": "stdout",
     "output_type": "stream",
     "text": [
      " 30\n"
     ]
    },
    {
     "name": "stdout",
     "output_type": "stream",
     "text": [
      "True\n"
     ]
    }
   ],
   "source": [
    "#HW1O3\n",
    "n = int(input())\n",
    "print(\"True\" if (not n % 15) else \"False\")"
   ]
  },
  {
   "cell_type": "code",
   "execution_count": 32,
   "id": "4336c9c2-5e8b-4da2-a6ed-8023ad36c406",
   "metadata": {},
   "outputs": [
    {
     "name": "stdout",
     "output_type": "stream",
     "text": [
      " 2010\n"
     ]
    },
    {
     "name": "stdout",
     "output_type": "stream",
     "text": [
      "False\n"
     ]
    }
   ],
   "source": [
    "#HW1O4\n",
    "n = int(input())\n",
    "print(\"True\" if 2025 - n >= 18 else \"False\")"
   ]
  },
  {
   "cell_type": "code",
   "execution_count": 34,
   "id": "46ff5747-c467-421c-bfbc-d1c2e4fafc6e",
   "metadata": {},
   "outputs": [
    {
     "name": "stdout",
     "output_type": "stream",
     "text": [
      " 5  5\n"
     ]
    },
    {
     "name": "stdout",
     "output_type": "stream",
     "text": [
      "Bang nhau\n"
     ]
    }
   ],
   "source": [
    "#HW1O5\n",
    "a, b = map(int, input().split())\n",
    "print(\"Bang nhau\" if a == b else max(a, b))"
   ]
  },
  {
   "cell_type": "code",
   "execution_count": 37,
   "id": "44fe6ab2-545a-4f3a-b7bf-a922cbc739fc",
   "metadata": {},
   "outputs": [
    {
     "name": "stdout",
     "output_type": "stream",
     "text": [
      " s\n"
     ]
    },
    {
     "name": "stdout",
     "output_type": "stream",
     "text": [
      "Chu cai\n"
     ]
    }
   ],
   "source": [
    "#HW1O6\n",
    "a = input()\n",
    "print('Chu cai' if a.isalpha() else 'So')"
   ]
  },
  {
   "cell_type": "code",
   "execution_count": 38,
   "id": "d2300aba-c182-46f6-8fb4-e5f94d80a9f6",
   "metadata": {},
   "outputs": [
    {
     "name": "stdout",
     "output_type": "stream",
     "text": [
      " 2\n"
     ]
    },
    {
     "name": "stdout",
     "output_type": "stream",
     "text": [
      "Yeu\n"
     ]
    }
   ],
   "source": [
    "#HW1O7\n",
    "a = float(input())\n",
    "print('Gioi' if a >= 8 else 'Kha' if a >= 6.5 else 'Trung binh' if a >= 5 else 'Yeu')"
   ]
  },
  {
   "cell_type": "code",
   "execution_count": 41,
   "id": "5b644930-84c8-4afb-8703-785cf733db99",
   "metadata": {},
   "outputs": [
    {
     "name": "stdout",
     "output_type": "stream",
     "text": [
      " 2004\n"
     ]
    },
    {
     "name": "stdout",
     "output_type": "stream",
     "text": [
      "True\n"
     ]
    }
   ],
   "source": [
    "#HW1O8\n",
    "a = int(input())\n",
    "print(\"True\" if (a % 400 == 0) or (a % 4 == 0 and a % 100) else \"False\")"
   ]
  },
  {
   "cell_type": "code",
   "execution_count": 50,
   "id": "df1ac61a-1df7-47de-a035-441c4459dc33",
   "metadata": {},
   "outputs": [
    {
     "name": "stdout",
     "output_type": "stream",
     "text": [
      " 2239\n"
     ]
    },
    {
     "name": "stdout",
     "output_type": "stream",
     "text": [
      "Me may beo\n"
     ]
    }
   ],
   "source": [
    "#HW1O9\n",
    "a = int(input())\n",
    "match a:\n",
    "    case 0: print(\"Không\")\n",
    "    case 1: print(\"Một\")\n",
    "    case 2: print(\"Hai\")\n",
    "    case 3: print(\"Ba\")\n",
    "    case 4: print(\"Bốn\")\n",
    "    case 5: print(\"Năm\")\n",
    "    case 6: print(\"Sáu\")\n",
    "    case 7: print(\"Bảy\")\n",
    "    case 8: print(\"Tám\")\n",
    "    case 9: print(\"Chín\")\n",
    "    case _: print(\"Me may beo\")"
   ]
  },
  {
   "cell_type": "code",
   "execution_count": 43,
   "id": "63ddcf38-c5d4-46bd-8e11-26b934ea304e",
   "metadata": {},
   "outputs": [
    {
     "name": "stdout",
     "output_type": "stream",
     "text": [
      " 3\n"
     ]
    },
    {
     "name": "stdout",
     "output_type": "stream",
     "text": [
      "Học lại\n"
     ]
    }
   ],
   "source": [
    "#HW1O10\n",
    "n = int(input())\n",
    "print(\"Qua môn\" if n >= 4 else \"Học lại\")"
   ]
  },
  {
   "cell_type": "code",
   "execution_count": 42,
   "id": "cc3030d6-742c-48c2-8778-ef64dd13c743",
   "metadata": {},
   "outputs": [
    {
     "name": "stdout",
     "output_type": "stream",
     "text": [
      " 2010\n"
     ]
    },
    {
     "name": "stdout",
     "output_type": "stream",
     "text": [
      "15\n",
      "False\n"
     ]
    }
   ],
   "source": [
    "#HW1O11\n",
    "n = int(input())\n",
    "print(2025 - n)\n",
    "print(\"True\" if 2025 - n >= 18 else \"False\")"
   ]
  }
 ],
 "metadata": {
  "kernelspec": {
   "display_name": "Python 3",
   "language": "python",
   "name": "python3"
  },
  "language_info": {
   "codemirror_mode": {
    "name": "ipython",
    "version": 3
   },
   "file_extension": ".py",
   "mimetype": "text/x-python",
   "name": "python",
   "nbconvert_exporter": "python",
   "pygments_lexer": "ipython3",
   "version": "3.11.0"
  }
 },
 "nbformat": 4,
 "nbformat_minor": 5
}
